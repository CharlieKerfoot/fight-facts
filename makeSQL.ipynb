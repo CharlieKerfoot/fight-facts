{
 "cells": [
  {
   "cell_type": "code",
   "execution_count": null,
   "metadata": {},
   "outputs": [],
   "source": [
    "# I could have included this in the ufc_scrape script, but alas I did not...\n",
    "import pandas as pd\n",
    "import sqlite3\n",
    "\n",
    "ufc_df = pd.read_csv(\"ufc.csv\")\n",
    "\n",
    "conn = sqlite3.connect(\"ufcSQL.db\")\n",
    "\n",
    "ufc_df.to_sql(\"ufc\", conn, if_exists=\"replace\", index=False)\n",
    "\n",
    "conn.close()"
   ]
  }
 ],
 "metadata": {
  "kernelspec": {
   "display_name": "base",
   "language": "python",
   "name": "python3"
  },
  "language_info": {
   "codemirror_mode": {
    "name": "ipython",
    "version": 3
   },
   "file_extension": ".py",
   "mimetype": "text/x-python",
   "name": "python",
   "nbconvert_exporter": "python",
   "pygments_lexer": "ipython3",
   "version": "3.11.7"
  }
 },
 "nbformat": 4,
 "nbformat_minor": 2
}
